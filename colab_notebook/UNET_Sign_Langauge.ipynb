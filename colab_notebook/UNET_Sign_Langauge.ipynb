{
  "cells": [
    {
      "cell_type": "code",
      "execution_count": null,
      "metadata": {
        "colab": {
          "base_uri": "https://localhost:8080/"
        },
        "id": "7UDDw6Z0BToW",
        "outputId": "53bc9726-ad70-459d-f41b-ccfd964f2d11"
      },
      "outputs": [
        {
          "name": "stdout",
          "output_type": "stream",
          "text": [
            "Cloning into 'SignLangaugeRecognition'...\n",
            "remote: Enumerating objects: 14, done.\u001b[K\n",
            "remote: Counting objects: 100% (14/14), done.\u001b[K\n",
            "remote: Compressing objects: 100% (13/13), done.\u001b[K\n",
            "remote: Total 14 (delta 0), reused 14 (delta 0), pack-reused 0\u001b[K\n",
            "Unpacking objects: 100% (14/14), 13.32 KiB | 4.44 MiB/s, done.\n"
          ]
        }
      ],
      "source": [
        "!git clone https://github.com/saisritejakuppa/SignLangaugeRecognition.git"
      ]
    },
    {
      "cell_type": "code",
      "execution_count": null,
      "metadata": {
        "colab": {
          "base_uri": "https://localhost:8080/"
        },
        "id": "fy2HZMPuBaG5",
        "outputId": "38d054ac-888c-448a-a337-abd75dca88a8"
      },
      "outputs": [
        {
          "name": "stdout",
          "output_type": "stream",
          "text": [
            "/content/data\n",
            "--2023-01-27 17:31:40--  https://www.sign-lang.uni-hamburg.de/meinedgs/videos/1583882/1583882.mp4\n",
            "Resolving www.sign-lang.uni-hamburg.de (www.sign-lang.uni-hamburg.de)... 134.100.55.40\n",
            "Connecting to www.sign-lang.uni-hamburg.de (www.sign-lang.uni-hamburg.de)|134.100.55.40|:443... connected.\n",
            "HTTP request sent, awaiting response... 200 OK\n",
            "Length: 79408325 (76M) [video/mp4]\n",
            "Saving to: ‘1583882.mp4’\n",
            "\n",
            "1583882.mp4         100%[===================>]  75.73M  14.7MB/s    in 6.4s    \n",
            "\n",
            "2023-01-27 17:31:48 (11.9 MB/s) - ‘1583882.mp4’ saved [79408325/79408325]\n",
            "\n",
            "--2023-01-27 17:31:48--  https://www.sign-lang.uni-hamburg.de/meinedgs/openpose/1583882_openpose.json.gz\n",
            "Resolving www.sign-lang.uni-hamburg.de (www.sign-lang.uni-hamburg.de)... 134.100.55.40\n",
            "Connecting to www.sign-lang.uni-hamburg.de (www.sign-lang.uni-hamburg.de)|134.100.55.40|:443... connected.\n",
            "HTTP request sent, awaiting response... 200 OK\n",
            "Length: 232345769 (222M) [application/x-gzip]\n",
            "Saving to: ‘1583882_openpose.json.gz’\n",
            "\n",
            "1583882_openpose.js 100%[===================>] 221.58M  13.8MB/s    in 17s     \n",
            "\n",
            "2023-01-27 17:32:06 (12.9 MB/s) - ‘1583882_openpose.json.gz’ saved [232345769/232345769]\n",
            "\n"
          ]
        }
      ],
      "source": [
        "!mkdir data\n",
        "%cd /content/data\n",
        "!wget https://www.sign-lang.uni-hamburg.de/meinedgs/videos/1583882/1583882.mp4\n",
        "!wget https://www.sign-lang.uni-hamburg.de/meinedgs/openpose/1583882_openpose.json.gz"
      ]
    },
    {
      "cell_type": "code",
      "execution_count": null,
      "metadata": {
        "id": "_CWoLnbRCvXz"
      },
      "outputs": [],
      "source": [
        "!gunzip /content/data/1583882_openpose.json.gz"
      ]
    },
    {
      "cell_type": "code",
      "execution_count": null,
      "metadata": {
        "colab": {
          "base_uri": "https://localhost:8080/"
        },
        "id": "ULsnvmbEBp4c",
        "outputId": "2dc60da7-4af7-4898-a18b-3a061ce90c77"
      },
      "outputs": [
        {
          "name": "stdout",
          "output_type": "stream",
          "text": [
            "/content\n"
          ]
        },
        {
          "name": "stderr",
          "output_type": "stream",
          "text": [
            " 16%|█▋        | 138/838 [00:40<05:27,  2.14it/s]"
          ]
        },
        {
          "name": "stdout",
          "output_type": "stream",
          "text": [
            "The frame number is  6850\n"
          ]
        },
        {
          "name": "stderr",
          "output_type": "stream",
          "text": [
            "100%|██████████| 838/838 [03:04<00:00,  4.53it/s]"
          ]
        },
        {
          "name": "stdout",
          "output_type": "stream",
          "text": [
            "The count is  194\n"
          ]
        },
        {
          "name": "stderr",
          "output_type": "stream",
          "text": [
            "\n"
          ]
        }
      ],
      "source": [
        "%cd /content\n",
        "from SignLangaugeRecognition.scripts.keypointsgeneration.keypoints_utils import keypoints,SaveFrame\n",
        "import numpy as np\n",
        "\n",
        "# Path: main.py\n",
        "openpose_json_path = '/content/data/1583882_openpose.json'\n",
        "vidname = '/content/data/1583882.mp4'\n",
        "imgspath = '/content/SignLangaugeRecognition/output/imgs'\n",
        "heatmapspath = '/content/SignLangaugeRecognition/output/heatmaps'\n",
        "\n",
        "\n",
        "process = keypoints(openpose_json_path)\n",
        "\n",
        "data = process.ReadJson()\n",
        "\n",
        "\n",
        "from tqdm import tqdm\n",
        "\n",
        "count = 0\n",
        "#make the dir imgs, heatmaps if not present\n",
        "import os\n",
        "if not os.path.exists(imgspath):\n",
        "    os.makedirs(imgspath)\n",
        "\n",
        "if not os.path.exists(heatmapspath):\n",
        "    os.makedirs(heatmapspath)\n",
        "\n",
        "for i in tqdm(range(0, 41864, 50)):\n",
        "    points, dataset_good = process.KeyPointsExtract(0, data,i)\n",
        "\n",
        "    if dataset_good:\n",
        "        count += 1\n",
        "        # print('The dataset is ', dataset_good)\n",
        "        try:\n",
        "            heatmaps = process.DrawHeatMaps(points)\n",
        "            SaveFrame(vidname, i, f'{imgspath}/img_frame_'+str(i)+'.png')\n",
        "\n",
        "            #save the heatmaps as npy file\n",
        "            np.save(f'{heatmapspath}/heatmaps_'+str(i)+'.npy', heatmaps)\n",
        "\n",
        "        except:\n",
        "            print('The frame number is ', i)\n",
        "            continue\n",
        "\n",
        "print('The count is ', count)"
      ]
    },
    {
      "cell_type": "code",
      "execution_count": null,
      "metadata": {
        "colab": {
          "base_uri": "https://localhost:8080/"
        },
        "id": "Rpa5OuMnE2Nb",
        "outputId": "5d1ebbb8-4ebe-4825-9150-440396af0c82"
      },
      "outputs": [
        {
          "name": "stdout",
          "output_type": "stream",
          "text": [
            "Looking in indexes: https://pypi.org/simple, https://us-python.pkg.dev/colab-wheels/public/simple/\n",
            "Collecting torchmetrics\n",
            "  Downloading torchmetrics-0.11.0-py3-none-any.whl (512 kB)\n",
            "\u001b[2K     \u001b[90m━━━━━━━━━━━━━━━━━━━━━━━━━━━━━━━━━━━━━━\u001b[0m \u001b[32m512.4/512.4 KB\u001b[0m \u001b[31m26.8 MB/s\u001b[0m eta \u001b[36m0:00:00\u001b[0m\n",
            "\u001b[?25hRequirement already satisfied: typing-extensions in /usr/local/lib/python3.8/dist-packages (from torchmetrics) (4.4.0)\n",
            "Requirement already satisfied: torch>=1.8.1 in /usr/local/lib/python3.8/dist-packages (from torchmetrics) (1.13.1+cu116)\n",
            "Requirement already satisfied: numpy>=1.17.2 in /usr/local/lib/python3.8/dist-packages (from torchmetrics) (1.21.6)\n",
            "Requirement already satisfied: packaging in /usr/local/lib/python3.8/dist-packages (from torchmetrics) (21.3)\n",
            "Requirement already satisfied: pyparsing!=3.0.5,>=2.0.2 in /usr/local/lib/python3.8/dist-packages (from packaging->torchmetrics) (3.0.9)\n",
            "Installing collected packages: torchmetrics\n",
            "Successfully installed torchmetrics-0.11.0\n",
            "Looking in indexes: https://pypi.org/simple, https://us-python.pkg.dev/colab-wheels/public/simple/\n",
            "Collecting wandb\n",
            "  Downloading wandb-0.13.9-py2.py3-none-any.whl (2.0 MB)\n",
            "\u001b[2K     \u001b[90m━━━━━━━━━━━━━━━━━━━━━━━━━━━━━━━━━━━━━━━━\u001b[0m \u001b[32m2.0/2.0 MB\u001b[0m \u001b[31m74.3 MB/s\u001b[0m eta \u001b[36m0:00:00\u001b[0m\n",
            "\u001b[?25hCollecting docker-pycreds>=0.4.0\n",
            "  Downloading docker_pycreds-0.4.0-py2.py3-none-any.whl (9.0 kB)\n",
            "Requirement already satisfied: protobuf!=4.21.0,<5,>=3.12.0 in /usr/local/lib/python3.8/dist-packages (from wandb) (3.19.6)\n",
            "Collecting sentry-sdk>=1.0.0\n",
            "  Downloading sentry_sdk-1.14.0-py2.py3-none-any.whl (178 kB)\n",
            "\u001b[2K     \u001b[90m━━━━━━━━━━━━━━━━━━━━━━━━━━━━━━━━━━━━━━\u001b[0m \u001b[32m178.9/178.9 KB\u001b[0m \u001b[31m23.9 MB/s\u001b[0m eta \u001b[36m0:00:00\u001b[0m\n",
            "\u001b[?25hRequirement already satisfied: Click!=8.0.0,>=7.0 in /usr/local/lib/python3.8/dist-packages (from wandb) (7.1.2)\n",
            "Requirement already satisfied: appdirs>=1.4.3 in /usr/local/lib/python3.8/dist-packages (from wandb) (1.4.4)\n",
            "Requirement already satisfied: typing-extensions in /usr/local/lib/python3.8/dist-packages (from wandb) (4.4.0)\n",
            "Collecting setproctitle\n",
            "  Downloading setproctitle-1.3.2-cp38-cp38-manylinux_2_5_x86_64.manylinux1_x86_64.manylinux_2_17_x86_64.manylinux2014_x86_64.whl (31 kB)\n",
            "Collecting GitPython>=1.0.0\n",
            "  Downloading GitPython-3.1.30-py3-none-any.whl (184 kB)\n",
            "\u001b[2K     \u001b[90m━━━━━━━━━━━━━━━━━━━━━━━━━━━━━━━━━━━━━━\u001b[0m \u001b[32m184.0/184.0 KB\u001b[0m \u001b[31m25.3 MB/s\u001b[0m eta \u001b[36m0:00:00\u001b[0m\n",
            "\u001b[?25hCollecting pathtools\n",
            "  Downloading pathtools-0.1.2.tar.gz (11 kB)\n",
            "  Preparing metadata (setup.py) ... \u001b[?25l\u001b[?25hdone\n",
            "Requirement already satisfied: PyYAML in /usr/local/lib/python3.8/dist-packages (from wandb) (6.0)\n",
            "Requirement already satisfied: requests<3,>=2.0.0 in /usr/local/lib/python3.8/dist-packages (from wandb) (2.25.1)\n",
            "Requirement already satisfied: psutil>=5.0.0 in /usr/local/lib/python3.8/dist-packages (from wandb) (5.4.8)\n",
            "Requirement already satisfied: setuptools in /usr/local/lib/python3.8/dist-packages (from wandb) (57.4.0)\n",
            "Requirement already satisfied: six>=1.4.0 in /usr/local/lib/python3.8/dist-packages (from docker-pycreds>=0.4.0->wandb) (1.15.0)\n",
            "Collecting gitdb<5,>=4.0.1\n",
            "  Downloading gitdb-4.0.10-py3-none-any.whl (62 kB)\n",
            "\u001b[2K     \u001b[90m━━━━━━━━━━━━━━━━━━━━━━━━━━━━━━━━━━━━━━━━\u001b[0m \u001b[32m62.7/62.7 KB\u001b[0m \u001b[31m8.1 MB/s\u001b[0m eta \u001b[36m0:00:00\u001b[0m\n",
            "\u001b[?25hRequirement already satisfied: urllib3<1.27,>=1.21.1 in /usr/local/lib/python3.8/dist-packages (from requests<3,>=2.0.0->wandb) (1.24.3)\n",
            "Requirement already satisfied: certifi>=2017.4.17 in /usr/local/lib/python3.8/dist-packages (from requests<3,>=2.0.0->wandb) (2022.12.7)\n",
            "Requirement already satisfied: idna<3,>=2.5 in /usr/local/lib/python3.8/dist-packages (from requests<3,>=2.0.0->wandb) (2.10)\n",
            "Requirement already satisfied: chardet<5,>=3.0.2 in /usr/local/lib/python3.8/dist-packages (from requests<3,>=2.0.0->wandb) (4.0.0)\n",
            "Collecting urllib3<1.27,>=1.21.1\n",
            "  Downloading urllib3-1.26.14-py2.py3-none-any.whl (140 kB)\n",
            "\u001b[2K     \u001b[90m━━━━━━━━━━━━━━━━━━━━━━━━━━━━━━━━━━━━━━\u001b[0m \u001b[32m140.6/140.6 KB\u001b[0m \u001b[31m18.2 MB/s\u001b[0m eta \u001b[36m0:00:00\u001b[0m\n",
            "\u001b[?25hCollecting smmap<6,>=3.0.1\n",
            "  Downloading smmap-5.0.0-py3-none-any.whl (24 kB)\n",
            "Building wheels for collected packages: pathtools\n",
            "  Building wheel for pathtools (setup.py) ... \u001b[?25l\u001b[?25hdone\n",
            "  Created wheel for pathtools: filename=pathtools-0.1.2-py3-none-any.whl size=8806 sha256=6b4456365e7f5970dab37578bf2368d99a5aefeb3a54168230aa8fa1d442e65d\n",
            "  Stored in directory: /root/.cache/pip/wheels/4c/8e/7e/72fbc243e1aeecae64a96875432e70d4e92f3d2d18123be004\n",
            "Successfully built pathtools\n",
            "Installing collected packages: pathtools, urllib3, smmap, setproctitle, docker-pycreds, sentry-sdk, gitdb, GitPython, wandb\n",
            "  Attempting uninstall: urllib3\n",
            "    Found existing installation: urllib3 1.24.3\n",
            "    Uninstalling urllib3-1.24.3:\n",
            "      Successfully uninstalled urllib3-1.24.3\n",
            "Successfully installed GitPython-3.1.30 docker-pycreds-0.4.0 gitdb-4.0.10 pathtools-0.1.2 sentry-sdk-1.14.0 setproctitle-1.3.2 smmap-5.0.0 urllib3-1.26.14 wandb-0.13.9\n"
          ]
        }
      ],
      "source": [
        "!pip install torchmetrics\n",
        "!pip install wandb"
      ]
    },
    {
      "cell_type": "code",
      "execution_count": null,
      "metadata": {
        "id": "lqWO78-kCFDP"
      },
      "outputs": [],
      "source": [
        "import sys\n",
        "sys.path.append('/content/SignLangaugeRecognition')\n",
        "\n",
        "from scripts.models.models import UNet\n",
        "from scripts.utils.dataloader import ImageHeatmapDataset, showbatch\n",
        "import torch\n",
        "from torch.utils.data import DataLoader\n",
        "from glob import glob\n",
        "import torch.nn.functional as F\n",
        "import torch.nn as nn\n",
        "from torchmetrics import StructuralSimilarityIndexMeasure\n",
        "from tqdm import tqdm\n",
        "from torch.optim import Adam\n",
        "\n",
        "#get early stopping\n",
        "from torch.optim.lr_scheduler import ReduceLROnPlateau"
      ]
    },
    {
      "cell_type": "code",
      "execution_count": null,
      "metadata": {
        "id": "61y2DI5HDpZl"
      },
      "outputs": [],
      "source": [
        "image_paths = glob('/content/SignLangaugeRecognition/output/imgs/*.png')\n",
        "heatmap_paths = glob('/content/SignLangaugeRecognition/output/heatmaps/*.npy')\n",
        "\n",
        "image_paths.sort()\n",
        "heatmap_paths.sort()\n",
        "\n",
        "dataset = ImageHeatmapDataset(image_paths, heatmap_paths)\n",
        "\n",
        "# Set the split lengths\n",
        "train_length = int(len(dataset) * 0.8)\n",
        "val_length = int(len(dataset) * 0.15)\n",
        "test_length = len(dataset) - train_length - val_length\n",
        "\n",
        "# Use random_split to split the dataset\n",
        "train_dataset, val_dataset, test_dataset = torch.utils.data.random_split(dataset, [train_length, val_length, test_length])"
      ]
    },
    {
      "cell_type": "code",
      "execution_count": null,
      "metadata": {
        "id": "ys789JjFEBpo"
      },
      "outputs": [],
      "source": [
        "device = torch.device(\"cuda:0\" if torch.cuda.is_available() else \"cpu\")"
      ]
    },
    {
      "cell_type": "code",
      "execution_count": null,
      "metadata": {
        "id": "DyEL5RpLD4KP"
      },
      "outputs": [],
      "source": [
        "class Loss(nn.Module):\n",
        "    def __init__(self, vgg):\n",
        "        super().__init__()\n",
        "        self.mse = nn.MSELoss()\n",
        "        self.ssim = StructuralSimilarityIndexMeasure(data_range=1.0).to(device)\n",
        "        self.vgg = vgg\n",
        "\n",
        "    def forward(self, y_true, y_pred):\n",
        "        # Mean squared error between the true and predicted images\n",
        "        mse = self.mse(y_true, y_pred)\n",
        "\n",
        "        # Structural similarity index (SSIM) between the true and predicted images\n",
        "        ssim = 1 - self.ssim(y_pred, y_true)\n",
        "\n",
        "        # Perceptual loss \n",
        "        # Extract features from the true and predicted images\n",
        "        true_features = self.vgg(y_true)\n",
        "        pred_features = self.vgg(y_pred)\n",
        "\n",
        "        # Calculate the mean squared error between the true and predicted features\n",
        "        pl = 0\n",
        "        for true_feature, pred_feature in zip(true_features, pred_features):\n",
        "            pl += self.mse(true_feature, pred_feature)\n",
        "\n",
        "        # Combine the MSE, SSIM and perceptual loss into a single loss value\n",
        "        loss = 0.4 * mse + 0.3 * ssim + 0.3*pl\n",
        "\n",
        "        return loss, ssim, mse, pl"
      ]
    },
    {
      "cell_type": "code",
      "execution_count": null,
      "metadata": {
        "colab": {
          "base_uri": "https://localhost:8080/"
        },
        "id": "Zp8U6nyBD_nb",
        "outputId": "33571383-33e2-4c32-f722-ed8be91149c1"
      },
      "outputs": [
        {
          "name": "stderr",
          "output_type": "stream",
          "text": [
            "/usr/local/lib/python3.8/dist-packages/torchvision/models/_utils.py:208: UserWarning: The parameter 'pretrained' is deprecated since 0.13 and may be removed in the future, please use 'weights' instead.\n",
            "  warnings.warn(\n",
            "/usr/local/lib/python3.8/dist-packages/torchvision/models/_utils.py:223: UserWarning: Arguments other than a weight enum or `None` for 'weights' are deprecated since 0.13 and may be removed in the future. The current behavior is equivalent to passing `weights=VGG19_Weights.IMAGENET1K_V1`. You can also use `weights=VGG19_Weights.DEFAULT` to get the most up-to-date weights.\n",
            "  warnings.warn(msg)\n"
          ]
        }
      ],
      "source": [
        "\n",
        "from torchvision import models\n",
        "\n",
        "model = UNet(22, 3)\n",
        "\n",
        "#convert to device\n",
        "model = model.to(device)\n",
        "\n",
        "vgg = models.vgg19(pretrained=True).to(device)\n",
        "loss_fn = Loss(vgg)\n",
        "optimizer = Adam(model.parameters(), lr=1e-3)\n",
        "\n",
        "# Initialize the scheduler\n",
        "scheduler = ReduceLROnPlateau(optimizer, mode='min', factor=0.1, patience=5, verbose=True)"
      ]
    },
    {
      "cell_type": "code",
      "execution_count": null,
      "metadata": {
        "id": "tnM_upSMEdFu"
      },
      "outputs": [],
      "source": [
        "batch_size = 4\n",
        "\n",
        "train_dataloader = torch.utils.data.DataLoader(train_dataset, batch_size=batch_size, shuffle=True)\n",
        "val_dataloader = torch.utils.data.DataLoader(val_dataset, batch_size=batch_size, shuffle=False)\n",
        "test_dataloader = torch.utils.data.DataLoader(test_dataset, batch_size=batch_size, shuffle=False)"
      ]
    },
    {
      "cell_type": "code",
      "execution_count": null,
      "metadata": {
        "id": "rsbV9amgEhtY"
      },
      "outputs": [],
      "source": [
        "def compute_val_loss(val_dataloader, model, loss_fn):\n",
        "    with torch.no_grad():\n",
        "        total_val_loss = 0\n",
        "        for val_images, val_heatmaps in val_dataloader:\n",
        "            val_images = val_images.to(torch.float).to(device)\n",
        "            val_heatmaps = val_heatmaps.to(torch.float).to(device)\n",
        "            val_generated_images = model(val_heatmaps)\n",
        "        val_batch_loss,_,_,_ = loss_fn(val_images, val_generated_images)\n",
        "        total_val_loss += val_batch_loss.item()\n",
        "    return total_val_loss / len(val_dataloader)"
      ]
    },
    {
      "cell_type": "code",
      "execution_count": null,
      "metadata": {
        "colab": {
          "base_uri": "https://localhost:8080/",
          "height": 516,
          "referenced_widgets": [
            "664a50ee684640fdbf62e30a65af7cb4",
            "29ab6bd386af479c8a3a30ec72103a66",
            "3f31e21aa27f4eafbedb3a74bcdad332",
            "2624093447ef4937abc7dff1ef4b0a3e",
            "e567cd743d494fe88d6ce9ec64fea1f3",
            "e58d8cb1b340498ba2d4c51ff5835ded",
            "b7301c3f0d224c7eadaa40e17f0492c8",
            "b666ce4ccb6545b1bdcb9696ac27827c"
          ]
        },
        "id": "4W9iX2UBESSC",
        "outputId": "905704b5-d154-4253-d243-ce72e47b5c8e"
      },
      "outputs": [
        {
          "data": {
            "text/html": [
              "Finishing last run (ID:tcj0ua4r) before initializing another..."
            ],
            "text/plain": [
              "<IPython.core.display.HTML object>"
            ]
          },
          "metadata": {},
          "output_type": "display_data"
        },
        {
          "data": {
            "text/html": [
              "Waiting for W&B process to finish... <strong style=\"color:green\">(success).</strong>"
            ],
            "text/plain": [
              "<IPython.core.display.HTML object>"
            ]
          },
          "metadata": {},
          "output_type": "display_data"
        },
        {
          "data": {
            "application/vnd.jupyter.widget-view+json": {
              "model_id": "664a50ee684640fdbf62e30a65af7cb4",
              "version_major": 2,
              "version_minor": 0
            },
            "text/plain": [
              "VBox(children=(Label(value='3.663 MB of 3.663 MB uploaded (0.000 MB deduped)\\r'), FloatProgress(value=1.0, max…"
            ]
          },
          "metadata": {},
          "output_type": "display_data"
        },
        {
          "data": {
            "text/html": [
              "<style>\n",
              "    table.wandb td:nth-child(1) { padding: 0 10px; text-align: left ; width: auto;} td:nth-child(2) {text-align: left ; width: 100%}\n",
              "    .wandb-row { display: flex; flex-direction: row; flex-wrap: wrap; justify-content: flex-start; width: 100% }\n",
              "    .wandb-col { display: flex; flex-direction: column; flex-basis: 100%; flex: 1; padding: 10px; }\n",
              "    </style>\n",
              "<div class=\"wandb-row\"><div class=\"wandb-col\"><h3>Run history:</h3><br/><table class=\"wandb\"><tr><td>epoch</td><td>▁█▁█</td></tr><tr><td>loss</td><td>▁▁▁▁▁█▁▁▁▁▁▇▁▁▁▁▁▆▁▁▁▁▁▆▁▁</td></tr><tr><td>mse</td><td>█▇▇▆▄▄▃▆▇▆▅▄▄▄▃▃▃▂▂▂▂▂▂▂▂▂▁▁▂▂▂▁▁▂▁▁▁▁▁▁</td></tr><tr><td>pl</td><td>█▇▇▆▄▄▃▆▇▆▅▄▄▄▃▃▃▂▂▂▂▂▂▂▂▂▁▁▂▂▂▁▁▂▁▁▁▁▁▁</td></tr><tr><td>ssim</td><td>█▆▅▅▄▃▂▅▆▅▄▄▄▃▃▃▂▂▂▂▂▂▂▁▂▂▁▁▁▁▂▂▂▂▂▁▁▁▂▁</td></tr><tr><td>val_loss</td><td>█▃▁</td></tr></table><br/></div><div class=\"wandb-col\"><h3>Run summary:</h3><br/><table class=\"wandb\"><tr><td>epoch</td><td>1</td></tr><tr><td>loss</td><td>1.43055</td></tr><tr><td>mse</td><td>0.08577</td></tr><tr><td>pl</td><td>0.08577</td></tr><tr><td>ssim</td><td>0.39046</td></tr><tr><td>val_loss</td><td>0.20935</td></tr></table><br/></div></div>"
            ],
            "text/plain": [
              "<IPython.core.display.HTML object>"
            ]
          },
          "metadata": {},
          "output_type": "display_data"
        },
        {
          "data": {
            "text/html": [
              " View run <strong style=\"color:#cdcd00\">cheerful-lamp-27</strong> at: <a href=\"https://wandb.ai/saisritejak/SignGAN/runs/tcj0ua4r\" target=\"_blank\">https://wandb.ai/saisritejak/SignGAN/runs/tcj0ua4r</a><br/>Synced 5 W&B file(s), 44 media file(s), 0 artifact file(s) and 0 other file(s)"
            ],
            "text/plain": [
              "<IPython.core.display.HTML object>"
            ]
          },
          "metadata": {},
          "output_type": "display_data"
        },
        {
          "data": {
            "text/html": [
              "Find logs at: <code>./wandb/run-20230127_181434-tcj0ua4r/logs</code>"
            ],
            "text/plain": [
              "<IPython.core.display.HTML object>"
            ]
          },
          "metadata": {},
          "output_type": "display_data"
        },
        {
          "data": {
            "text/html": [
              "Successfully finished last run (ID:tcj0ua4r). Initializing new run:<br/>"
            ],
            "text/plain": [
              "<IPython.core.display.HTML object>"
            ]
          },
          "metadata": {},
          "output_type": "display_data"
        },
        {
          "data": {
            "text/html": [
              "Tracking run with wandb version 0.13.9"
            ],
            "text/plain": [
              "<IPython.core.display.HTML object>"
            ]
          },
          "metadata": {},
          "output_type": "display_data"
        },
        {
          "data": {
            "text/html": [
              "Run data is saved locally in <code>/content/wandb/run-20230127_182146-wdhoqvki</code>"
            ],
            "text/plain": [
              "<IPython.core.display.HTML object>"
            ]
          },
          "metadata": {},
          "output_type": "display_data"
        },
        {
          "data": {
            "text/html": [
              "Syncing run <strong><a href=\"https://wandb.ai/saisritejak/SignGAN/runs/wdhoqvki\" target=\"_blank\">radiant-pig-28</a></strong> to <a href=\"https://wandb.ai/saisritejak/SignGAN\" target=\"_blank\">Weights & Biases</a> (<a href=\"https://wandb.me/run\" target=\"_blank\">docs</a>)<br/>"
            ],
            "text/plain": [
              "<IPython.core.display.HTML object>"
            ]
          },
          "metadata": {},
          "output_type": "display_data"
        },
        {
          "data": {
            "text/html": [
              " View project at <a href=\"https://wandb.ai/saisritejak/SignGAN\" target=\"_blank\">https://wandb.ai/saisritejak/SignGAN</a>"
            ],
            "text/plain": [
              "<IPython.core.display.HTML object>"
            ]
          },
          "metadata": {},
          "output_type": "display_data"
        },
        {
          "data": {
            "text/html": [
              " View run at <a href=\"https://wandb.ai/saisritejak/SignGAN/runs/wdhoqvki\" target=\"_blank\">https://wandb.ai/saisritejak/SignGAN/runs/wdhoqvki</a>"
            ],
            "text/plain": [
              "<IPython.core.display.HTML object>"
            ]
          },
          "metadata": {},
          "output_type": "display_data"
        },
        {
          "data": {
            "text/html": [
              "<button onClick=\"this.nextSibling.style.display='block';this.style.display='none';\">Display W&B run</button><iframe src=\"https://wandb.ai/saisritejak/SignGAN/runs/wdhoqvki?jupyter=true\" style=\"border:none;width:100%;height:420px;display:none;\"></iframe>"
            ],
            "text/plain": [
              "<wandb.sdk.wandb_run.Run at 0x7f212a0a03a0>"
            ]
          },
          "execution_count": 25,
          "metadata": {},
          "output_type": "execute_result"
        }
      ],
      "source": [
        "import wandb\n",
        "wandb.init(project='SignGAN', entity='saisritejak')   "
      ]
    },
    {
      "cell_type": "code",
      "execution_count": null,
      "metadata": {
        "id": "ZBU0nCpfFyTT"
      },
      "outputs": [],
      "source": [
        "# !mkdir models"
      ]
    },
    {
      "cell_type": "code",
      "execution_count": null,
      "metadata": {
        "id": "A3ASFbGmEnXN"
      },
      "outputs": [],
      "source": [
        "def train():\n",
        "    # Iterate over the number of training epochs\n",
        "    for epoch in range(num_epochs):\n",
        "        # Iterate over the training data\n",
        "\n",
        "        loss = 0\n",
        "        cur_step = 0\n",
        "\n",
        "        for images, heatmaps in tqdm(train_dataloader, desc=\"Epoch {}/{}\".format(epoch+1, num_epochs)):\n",
        "            # Move the data to the GPU (if available)\n",
        "            images = images.to(torch.float).to(device)\n",
        "            heatmaps = heatmaps.to(torch.float).to(device)\n",
        "\n",
        "            # Forward pass\n",
        "            generated_images = model(heatmaps)\n",
        "            \n",
        "            # Compute the loss\n",
        "            batch_loss, ssim, mse, pl = loss_fn(images, generated_images)\n",
        "\n",
        "            #log the ssim and mse\n",
        "            wandb.log({'ssim': ssim})\n",
        "            wandb.log({'mse': mse})\n",
        "            wandb.log({'pl': pl})\n",
        "\n",
        "            # Zero the gradients\n",
        "            optimizer.zero_grad()\n",
        "\n",
        "            # Backward pass\n",
        "            batch_loss.backward()\n",
        "\n",
        "            # Update the weights\n",
        "            optimizer.step()\n",
        "\n",
        "            # Add the loss to the total loss for the epoch\n",
        "            loss += batch_loss.item()\n",
        "\n",
        "            if cur_step % batch_log == 0:\n",
        "                #log the loss\n",
        "                wandb.log({'loss': batch_loss.item()})\n",
        "\n",
        "                #log the images\n",
        "                wandb.log({'images': [wandb.Image(images[0]), wandb.Image(generated_images[0])]})\n",
        "\n",
        "            cur_step =  cur_step + 1\n",
        "\n",
        "            # break\n",
        "            \n",
        "        # Print the current loss value\n",
        "        print(\"Epoch: {}, Loss: {:.4f}\".format(epoch+1, loss / len(train_dataloader)))\n",
        "\n",
        "        #log the loss\n",
        "        wandb.log({'loss': loss})\n",
        "\n",
        "        #log the epoch\n",
        "        wandb.log({'epoch': epoch})\n",
        "        \n",
        "        # Compute the validation loss\n",
        "        val_loss = compute_val_loss(val_dataloader, model, loss_fn)\n",
        "        wandb.log({'val_loss': val_loss})\n",
        "\n",
        "        torch.save(model, f'models/unet_model_{epoch}.pt')"
      ]
    },
    {
      "cell_type": "code",
      "execution_count": null,
      "metadata": {
        "colab": {
          "background_save": true,
          "base_uri": "https://localhost:8080/"
        },
        "id": "9OtnCFtlEpUy",
        "outputId": "00f3a31a-cd05-44e4-c73d-9d9dcdce07d9"
      },
      "outputs": [
        {
          "name": "stderr",
          "output_type": "stream",
          "text": [
            "Epoch 1/100: 100%|██████████| 39/39 [1:30:01<00:00, 138.50s/it]\n"
          ]
        },
        {
          "name": "stdout",
          "output_type": "stream",
          "text": [
            "Epoch: 1, Loss: 113816.5299\n"
          ]
        },
        {
          "name": "stderr",
          "output_type": "stream",
          "text": [
            "Epoch 2/100: 100%|██████████| 39/39 [1:31:27<00:00, 140.69s/it]\n"
          ]
        },
        {
          "name": "stdout",
          "output_type": "stream",
          "text": [
            "Epoch: 2, Loss: 0.1899\n"
          ]
        },
        {
          "name": "stderr",
          "output_type": "stream",
          "text": [
            "Epoch 3/100: 100%|██████████| 39/39 [1:32:58<00:00, 143.04s/it]\n"
          ]
        },
        {
          "name": "stdout",
          "output_type": "stream",
          "text": [
            "Epoch: 3, Loss: 0.1788\n"
          ]
        },
        {
          "name": "stderr",
          "output_type": "stream",
          "text": [
            "Epoch 4/100: 100%|██████████| 39/39 [1:30:39<00:00, 139.47s/it]\n"
          ]
        },
        {
          "name": "stdout",
          "output_type": "stream",
          "text": [
            "Epoch: 4, Loss: 0.1716\n"
          ]
        },
        {
          "name": "stderr",
          "output_type": "stream",
          "text": [
            "Epoch 5/100: 100%|██████████| 39/39 [1:31:31<00:00, 140.81s/it]\n"
          ]
        },
        {
          "name": "stdout",
          "output_type": "stream",
          "text": [
            "Epoch: 5, Loss: 0.1671\n"
          ]
        },
        {
          "name": "stderr",
          "output_type": "stream",
          "text": [
            "Epoch 6/100: 100%|██████████| 39/39 [1:31:11<00:00, 140.30s/it]\n"
          ]
        },
        {
          "name": "stdout",
          "output_type": "stream",
          "text": [
            "Epoch: 6, Loss: 0.1597\n"
          ]
        },
        {
          "name": "stderr",
          "output_type": "stream",
          "text": [
            "Epoch 7/100:  23%|██▎       | 9/39 [21:47<1:12:29, 144.97s/it]"
          ]
        }
      ],
      "source": [
        "num_epochs = 100\n",
        "batch_log = 8\n",
        "train()\n",
        "torch.save(model, 'unet_model.pt')"
      ]
    },
    {
      "cell_type": "code",
      "execution_count": null,
      "metadata": {
        "id": "wCjwpLl0F0hD"
      },
      "outputs": [],
      "source": []
    }
  ],
  "metadata": {
    "accelerator": "GPU",
    "colab": {
      "machine_shape": "hm",
      "provenance": []
    },
    "gpuClass": "standard",
    "kernelspec": {
      "display_name": "Python 3",
      "name": "python3"
    },
    "language_info": {
      "name": "python"
    },
    "widgets": {
      "application/vnd.jupyter.widget-state+json": {
        "2624093447ef4937abc7dff1ef4b0a3e": {
          "model_module": "@jupyter-widgets/base",
          "model_module_version": "1.2.0",
          "model_name": "LayoutModel",
          "state": {
            "_model_module": "@jupyter-widgets/base",
            "_model_module_version": "1.2.0",
            "_model_name": "LayoutModel",
            "_view_count": null,
            "_view_module": "@jupyter-widgets/base",
            "_view_module_version": "1.2.0",
            "_view_name": "LayoutView",
            "align_content": null,
            "align_items": null,
            "align_self": null,
            "border": null,
            "bottom": null,
            "display": null,
            "flex": null,
            "flex_flow": null,
            "grid_area": null,
            "grid_auto_columns": null,
            "grid_auto_flow": null,
            "grid_auto_rows": null,
            "grid_column": null,
            "grid_gap": null,
            "grid_row": null,
            "grid_template_areas": null,
            "grid_template_columns": null,
            "grid_template_rows": null,
            "height": null,
            "justify_content": null,
            "justify_items": null,
            "left": null,
            "margin": null,
            "max_height": null,
            "max_width": null,
            "min_height": null,
            "min_width": null,
            "object_fit": null,
            "object_position": null,
            "order": null,
            "overflow": null,
            "overflow_x": null,
            "overflow_y": null,
            "padding": null,
            "right": null,
            "top": null,
            "visibility": null,
            "width": null
          }
        },
        "29ab6bd386af479c8a3a30ec72103a66": {
          "model_module": "@jupyter-widgets/controls",
          "model_module_version": "1.5.0",
          "model_name": "LabelModel",
          "state": {
            "_dom_classes": [],
            "_model_module": "@jupyter-widgets/controls",
            "_model_module_version": "1.5.0",
            "_model_name": "LabelModel",
            "_view_count": null,
            "_view_module": "@jupyter-widgets/controls",
            "_view_module_version": "1.5.0",
            "_view_name": "LabelView",
            "description": "",
            "description_tooltip": null,
            "layout": "IPY_MODEL_e567cd743d494fe88d6ce9ec64fea1f3",
            "placeholder": "​",
            "style": "IPY_MODEL_e58d8cb1b340498ba2d4c51ff5835ded",
            "value": "3.672 MB of 3.672 MB uploaded (0.000 MB deduped)\r"
          }
        },
        "3f31e21aa27f4eafbedb3a74bcdad332": {
          "model_module": "@jupyter-widgets/controls",
          "model_module_version": "1.5.0",
          "model_name": "FloatProgressModel",
          "state": {
            "_dom_classes": [],
            "_model_module": "@jupyter-widgets/controls",
            "_model_module_version": "1.5.0",
            "_model_name": "FloatProgressModel",
            "_view_count": null,
            "_view_module": "@jupyter-widgets/controls",
            "_view_module_version": "1.5.0",
            "_view_name": "ProgressView",
            "bar_style": "",
            "description": "",
            "description_tooltip": null,
            "layout": "IPY_MODEL_b7301c3f0d224c7eadaa40e17f0492c8",
            "max": 1,
            "min": 0,
            "orientation": "horizontal",
            "style": "IPY_MODEL_b666ce4ccb6545b1bdcb9696ac27827c",
            "value": 1
          }
        },
        "664a50ee684640fdbf62e30a65af7cb4": {
          "model_module": "@jupyter-widgets/controls",
          "model_module_version": "1.5.0",
          "model_name": "VBoxModel",
          "state": {
            "_dom_classes": [],
            "_model_module": "@jupyter-widgets/controls",
            "_model_module_version": "1.5.0",
            "_model_name": "VBoxModel",
            "_view_count": null,
            "_view_module": "@jupyter-widgets/controls",
            "_view_module_version": "1.5.0",
            "_view_name": "VBoxView",
            "box_style": "",
            "children": [
              "IPY_MODEL_29ab6bd386af479c8a3a30ec72103a66",
              "IPY_MODEL_3f31e21aa27f4eafbedb3a74bcdad332"
            ],
            "layout": "IPY_MODEL_2624093447ef4937abc7dff1ef4b0a3e"
          }
        },
        "b666ce4ccb6545b1bdcb9696ac27827c": {
          "model_module": "@jupyter-widgets/controls",
          "model_module_version": "1.5.0",
          "model_name": "ProgressStyleModel",
          "state": {
            "_model_module": "@jupyter-widgets/controls",
            "_model_module_version": "1.5.0",
            "_model_name": "ProgressStyleModel",
            "_view_count": null,
            "_view_module": "@jupyter-widgets/base",
            "_view_module_version": "1.2.0",
            "_view_name": "StyleView",
            "bar_color": null,
            "description_width": ""
          }
        },
        "b7301c3f0d224c7eadaa40e17f0492c8": {
          "model_module": "@jupyter-widgets/base",
          "model_module_version": "1.2.0",
          "model_name": "LayoutModel",
          "state": {
            "_model_module": "@jupyter-widgets/base",
            "_model_module_version": "1.2.0",
            "_model_name": "LayoutModel",
            "_view_count": null,
            "_view_module": "@jupyter-widgets/base",
            "_view_module_version": "1.2.0",
            "_view_name": "LayoutView",
            "align_content": null,
            "align_items": null,
            "align_self": null,
            "border": null,
            "bottom": null,
            "display": null,
            "flex": null,
            "flex_flow": null,
            "grid_area": null,
            "grid_auto_columns": null,
            "grid_auto_flow": null,
            "grid_auto_rows": null,
            "grid_column": null,
            "grid_gap": null,
            "grid_row": null,
            "grid_template_areas": null,
            "grid_template_columns": null,
            "grid_template_rows": null,
            "height": null,
            "justify_content": null,
            "justify_items": null,
            "left": null,
            "margin": null,
            "max_height": null,
            "max_width": null,
            "min_height": null,
            "min_width": null,
            "object_fit": null,
            "object_position": null,
            "order": null,
            "overflow": null,
            "overflow_x": null,
            "overflow_y": null,
            "padding": null,
            "right": null,
            "top": null,
            "visibility": null,
            "width": null
          }
        },
        "e567cd743d494fe88d6ce9ec64fea1f3": {
          "model_module": "@jupyter-widgets/base",
          "model_module_version": "1.2.0",
          "model_name": "LayoutModel",
          "state": {
            "_model_module": "@jupyter-widgets/base",
            "_model_module_version": "1.2.0",
            "_model_name": "LayoutModel",
            "_view_count": null,
            "_view_module": "@jupyter-widgets/base",
            "_view_module_version": "1.2.0",
            "_view_name": "LayoutView",
            "align_content": null,
            "align_items": null,
            "align_self": null,
            "border": null,
            "bottom": null,
            "display": null,
            "flex": null,
            "flex_flow": null,
            "grid_area": null,
            "grid_auto_columns": null,
            "grid_auto_flow": null,
            "grid_auto_rows": null,
            "grid_column": null,
            "grid_gap": null,
            "grid_row": null,
            "grid_template_areas": null,
            "grid_template_columns": null,
            "grid_template_rows": null,
            "height": null,
            "justify_content": null,
            "justify_items": null,
            "left": null,
            "margin": null,
            "max_height": null,
            "max_width": null,
            "min_height": null,
            "min_width": null,
            "object_fit": null,
            "object_position": null,
            "order": null,
            "overflow": null,
            "overflow_x": null,
            "overflow_y": null,
            "padding": null,
            "right": null,
            "top": null,
            "visibility": null,
            "width": null
          }
        },
        "e58d8cb1b340498ba2d4c51ff5835ded": {
          "model_module": "@jupyter-widgets/controls",
          "model_module_version": "1.5.0",
          "model_name": "DescriptionStyleModel",
          "state": {
            "_model_module": "@jupyter-widgets/controls",
            "_model_module_version": "1.5.0",
            "_model_name": "DescriptionStyleModel",
            "_view_count": null,
            "_view_module": "@jupyter-widgets/base",
            "_view_module_version": "1.2.0",
            "_view_name": "StyleView",
            "description_width": ""
          }
        }
      }
    }
  },
  "nbformat": 4,
  "nbformat_minor": 0
}